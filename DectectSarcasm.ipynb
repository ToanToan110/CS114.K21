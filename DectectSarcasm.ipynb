{
  "nbformat": 4,
  "nbformat_minor": 0,
  "metadata": {
    "colab": {
      "name": "DectectSarcasm.ipynb",
      "provenance": [],
      "collapsed_sections": [],
      "authorship_tag": "ABX9TyPb1RT8ygtCIcC2ERvJYMHj",
      "include_colab_link": true
    },
    "kernelspec": {
      "name": "python3",
      "display_name": "Python 3"
    }
  },
  "cells": [
    {
      "cell_type": "markdown",
      "metadata": {
        "id": "view-in-github",
        "colab_type": "text"
      },
      "source": [
        "<a href=\"https://colab.research.google.com/github/ToanToan110/CS114.K21/blob/master/DectectSarcasm.ipynb\" target=\"_parent\"><img src=\"https://colab.research.google.com/assets/colab-badge.svg\" alt=\"Open In Colab\"/></a>"
      ]
    },
    {
      "cell_type": "code",
      "metadata": {
        "id": "tHSHmQKwLcfW",
        "colab_type": "code",
        "colab": {
          "base_uri": "https://localhost:8080/",
          "height": 407
        },
        "outputId": "848240b6-1f39-47d4-e0f6-febc0a09a7f6"
      },
      "source": [
        "import pandas as pd\n",
        "df = pd.read_csv(\"chambiem1.csv\")\n",
        "df"
      ],
      "execution_count": 3,
      "outputs": [
        {
          "output_type": "execute_result",
          "data": {
            "text/html": [
              "<div>\n",
              "<style scoped>\n",
              "    .dataframe tbody tr th:only-of-type {\n",
              "        vertical-align: middle;\n",
              "    }\n",
              "\n",
              "    .dataframe tbody tr th {\n",
              "        vertical-align: top;\n",
              "    }\n",
              "\n",
              "    .dataframe thead th {\n",
              "        text-align: right;\n",
              "    }\n",
              "</style>\n",
              "<table border=\"1\" class=\"dataframe\">\n",
              "  <thead>\n",
              "    <tr style=\"text-align: right;\">\n",
              "      <th></th>\n",
              "      <th>Column 1</th>\n",
              "      <th>1</th>\n",
              "    </tr>\n",
              "  </thead>\n",
              "  <tbody>\n",
              "    <tr>\n",
              "      <th>0</th>\n",
              "      <td>Staples Center Employee Realizes He Left Shot ...</td>\n",
              "      <td>1</td>\n",
              "    </tr>\n",
              "    <tr>\n",
              "      <th>1</th>\n",
              "      <td>Entire Oklahoma State Team To Boycott Season A...</td>\n",
              "      <td>1</td>\n",
              "    </tr>\n",
              "    <tr>\n",
              "      <th>2</th>\n",
              "      <td>Fantasy Baseball League Commissioner Knows Han...</td>\n",
              "      <td>1</td>\n",
              "    </tr>\n",
              "    <tr>\n",
              "      <th>3</th>\n",
              "      <td>Adidas Unveils New Line Of Soccer Stuff</td>\n",
              "      <td>1</td>\n",
              "    </tr>\n",
              "    <tr>\n",
              "      <th>4</th>\n",
              "      <td>Red Sox Ask Fans To Switch From Racial To Homo...</td>\n",
              "      <td>1</td>\n",
              "    </tr>\n",
              "    <tr>\n",
              "      <th>...</th>\n",
              "      <td>...</td>\n",
              "      <td>...</td>\n",
              "    </tr>\n",
              "    <tr>\n",
              "      <th>994</th>\n",
              "      <td>Report: New ‘The Handmaid’s Tale’ Season Focus...</td>\n",
              "      <td>1</td>\n",
              "    </tr>\n",
              "    <tr>\n",
              "      <th>995</th>\n",
              "      <td>Cool Glitch Effect On Movie Studio Logo Must M...</td>\n",
              "      <td>1</td>\n",
              "    </tr>\n",
              "    <tr>\n",
              "      <th>996</th>\n",
              "      <td>Fans Excited As ‘Solo’ Trailer Sheds Light On ...</td>\n",
              "      <td>1</td>\n",
              "    </tr>\n",
              "    <tr>\n",
              "      <th>997</th>\n",
              "      <td>Archivists Discover Unpublished Michael Cricht...</td>\n",
              "      <td>1</td>\n",
              "    </tr>\n",
              "    <tr>\n",
              "      <th>998</th>\n",
              "      <td>George Thorogood Fan Disgusted To Learn Musici...</td>\n",
              "      <td>1</td>\n",
              "    </tr>\n",
              "  </tbody>\n",
              "</table>\n",
              "<p>999 rows × 2 columns</p>\n",
              "</div>"
            ],
            "text/plain": [
              "                                              Column 1  1\n",
              "0    Staples Center Employee Realizes He Left Shot ...  1\n",
              "1    Entire Oklahoma State Team To Boycott Season A...  1\n",
              "2    Fantasy Baseball League Commissioner Knows Han...  1\n",
              "3              Adidas Unveils New Line Of Soccer Stuff  1\n",
              "4    Red Sox Ask Fans To Switch From Racial To Homo...  1\n",
              "..                                                 ... ..\n",
              "994  Report: New ‘The Handmaid’s Tale’ Season Focus...  1\n",
              "995  Cool Glitch Effect On Movie Studio Logo Must M...  1\n",
              "996  Fans Excited As ‘Solo’ Trailer Sheds Light On ...  1\n",
              "997  Archivists Discover Unpublished Michael Cricht...  1\n",
              "998  George Thorogood Fan Disgusted To Learn Musici...  1\n",
              "\n",
              "[999 rows x 2 columns]"
            ]
          },
          "metadata": {
            "tags": []
          },
          "execution_count": 3
        }
      ]
    },
    {
      "cell_type": "code",
      "metadata": {
        "id": "AsV2qKxbp5jr",
        "colab_type": "code",
        "colab": {
          "base_uri": "https://localhost:8080/",
          "height": 35
        },
        "outputId": "a25b448d-9daf-406e-a3eb-610edcf43fbe"
      },
      "source": [
        "from google.colab import drive\n",
        "drive.mount('/content/drive')"
      ],
      "execution_count": 4,
      "outputs": [
        {
          "output_type": "stream",
          "text": [
            "Drive already mounted at /content/drive; to attempt to forcibly remount, call drive.mount(\"/content/drive\", force_remount=True).\n"
          ],
          "name": "stdout"
        }
      ]
    },
    {
      "cell_type": "code",
      "metadata": {
        "id": "Ds5ZL_RRsdmg",
        "colab_type": "code",
        "colab": {
          "base_uri": "https://localhost:8080/",
          "height": 54
        },
        "outputId": "300a8095-2cdf-4e39-98cc-7d79d69de4f8"
      },
      "source": [
        "ls"
      ],
      "execution_count": 5,
      "outputs": [
        {
          "output_type": "stream",
          "text": [
            "chambiem1.csv    \u001b[0m\u001b[01;34mdrive\u001b[0m/        Sarcasm_Headlines_Dataset.json\n",
            "chinhthong1.csv  \u001b[01;34msample_data\u001b[0m/  Sarcasm_Headlines_Dataset_v2.json\n"
          ],
          "name": "stdout"
        }
      ]
    },
    {
      "cell_type": "code",
      "metadata": {
        "id": "ttxSymuy0ZK3",
        "colab_type": "code",
        "colab": {
          "base_uri": "https://localhost:8080/",
          "height": 83
        },
        "outputId": "8f211da8-18de-46d9-f0ae-eccd61a53126"
      },
      "source": [
        "!unzip 'drive/My Drive/detectsarcasm/news-headlines-dataset-for-sarcasm-detection.zip'"
      ],
      "execution_count": null,
      "outputs": [
        {
          "output_type": "stream",
          "text": [
            "Archive:  drive/My Drive/detectsarcasm/news-headlines-dataset-for-sarcasm-detection.zip\n",
            "replace Sarcasm_Headlines_Dataset.json? [y]es, [n]o, [A]ll, [N]one, [r]ename: "
          ],
          "name": "stdout"
        }
      ]
    },
    {
      "cell_type": "code",
      "metadata": {
        "id": "PAKa_B5s0qXJ",
        "colab_type": "code",
        "colab": {}
      },
      "source": [
        "df_1 = pd.read_json(\"Sarcasm_Headlines_Dataset.json\",lines=True)"
      ],
      "execution_count": null,
      "outputs": []
    },
    {
      "cell_type": "code",
      "metadata": {
        "id": "vDIi63JI0wPU",
        "colab_type": "code",
        "colab": {}
      },
      "source": [
        "df_2 = pd.read_csv(\"drive/My Drive/detectsarcasm/datatest.csv\",)\n",
        "df_2"
      ],
      "execution_count": null,
      "outputs": []
    },
    {
      "cell_type": "code",
      "metadata": {
        "id": "qa3F2N2uuStt",
        "colab_type": "code",
        "colab": {}
      },
      "source": [
        "df_1"
      ],
      "execution_count": null,
      "outputs": []
    },
    {
      "cell_type": "code",
      "metadata": {
        "id": "ne1HcOgtWWS1",
        "colab_type": "code",
        "colab": {}
      },
      "source": [
        "df_1.info()\n",
        "print(\"                  \")\n",
        "df_2.info()"
      ],
      "execution_count": null,
      "outputs": []
    },
    {
      "cell_type": "markdown",
      "metadata": {
        "id": "H07ftCF6t22n",
        "colab_type": "text"
      },
      "source": [
        "xem thông tin của biến df_1"
      ]
    },
    {
      "cell_type": "code",
      "metadata": {
        "id": "RBZaMUg-4MuS",
        "colab_type": "code",
        "colab": {}
      },
      "source": [
        "df_1=df_1.drop(labels=\"article_link\",axis=1)"
      ],
      "execution_count": null,
      "outputs": []
    },
    {
      "cell_type": "markdown",
      "metadata": {
        "id": "Fi7YxfXrxzUC",
        "colab_type": "text"
      },
      "source": [
        "Xóa bỏ cột article link trong dataset\n"
      ]
    },
    {
      "cell_type": "code",
      "metadata": {
        "id": "APZzUSrnug3O",
        "colab_type": "code",
        "colab": {}
      },
      "source": [
        "import numpy as np\n",
        "import string \n",
        "from string import digits\n",
        "from string import punctuation\n",
        "import nltk\n",
        "from nltk.corpus import wordnet\n",
        "from nltk.stem import WordNetLemmatizer\n",
        "nltk.download('averaged_perceptron_tagger')\n",
        "nltk.download('wordnet')\n",
        "for i in df_1['headline']:\n",
        "  i = str(i)\n",
        "\n",
        "for a in df_2['Headline']:\n",
        "  a = str(a)"
      ],
      "execution_count": null,
      "outputs": []
    },
    {
      "cell_type": "markdown",
      "metadata": {
        "id": "LksE8i_lyEAH",
        "colab_type": "text"
      },
      "source": [
        "tải về tệp tin giúp cho việc loại bỏ các thứ không quan trọng như dấu câu,...\n",
        "\n",
        "Chạy vòng lập ép kiểu dữ liệu thành string để thao tác sau này tránh bị lỗi"
      ]
    },
    {
      "cell_type": "code",
      "metadata": {
        "id": "KqyjM7q2yFoN",
        "colab_type": "code",
        "colab": {}
      },
      "source": [
        "df_1"
      ],
      "execution_count": null,
      "outputs": []
    },
    {
      "cell_type": "code",
      "metadata": {
        "id": "jS5oizvTyVdG",
        "colab_type": "code",
        "colab": {}
      },
      "source": [
        "hl_clean_1 = []\n",
        "hl_clean_2 = []\n",
        "\n",
        "for i in df_1['headline']:\n",
        "    clean = i.translate(str.maketrans('', '', punctuation))\n",
        "    clean = clean.translate(str.maketrans('', '', digits))\n",
        "    hl_clean_1.append(clean)\n",
        "\n",
        "for a in df_2['Headline']:\n",
        "    clean = a.translate(str.maketrans('', '', punctuation))\n",
        "    clean = clean.translate(str.maketrans('', '', digits))\n",
        "    hl_clean_2.append(clean)\n"
      ],
      "execution_count": null,
      "outputs": []
    },
    {
      "cell_type": "markdown",
      "metadata": {
        "id": "Fb1ASdV-yfK7",
        "colab_type": "text"
      },
      "source": [
        "Dọn dẹp các chữ số và chấm câu"
      ]
    },
    {
      "cell_type": "code",
      "metadata": {
        "id": "qiKXCDf9ytS9",
        "colab_type": "code",
        "colab": {}
      },
      "source": [
        "hl_tokens_1 = []\n",
        "hl_tokens_2 = []\n",
        "for i in hl_clean_1:\n",
        "  i = i.split()\n",
        "  hl_tokens_1.append(i)\n",
        "for i in hl_clean_2:\n",
        "  i = i.split()\n",
        "  hl_tokens_2.append(i)  \n"
      ],
      "execution_count": null,
      "outputs": []
    },
    {
      "cell_type": "markdown",
      "metadata": {
        "id": "v2qu6wLPz7EH",
        "colab_type": "text"
      },
      "source": [
        ""
      ]
    },
    {
      "cell_type": "code",
      "metadata": {
        "id": "GbyuLNEHz7dr",
        "colab_type": "code",
        "colab": {}
      },
      "source": [
        "def get_wordnet_pos(word):\n",
        "    \"\"\"Map POS tag to first character lemmatize() accepts\"\"\"\n",
        "    tag = nltk.pos_tag([word])[0][1][0].upper()\n",
        "    tag_dict = {\"J\": wordnet.ADJ,\n",
        "                \"N\": wordnet.NOUN,\n",
        "                \"V\": wordnet.VERB,\n",
        "                \"R\": wordnet.ADV}\n",
        "\n",
        "    return tag_dict.get(tag, wordnet.NOUN)\n",
        "\n",
        "# Init Lemmatizer 1\n",
        "lemmatizer = WordNetLemmatizer()\n",
        "\n",
        "hl_lemmatized_1 = []\n",
        "for tokens in hl_tokens_1:\n",
        "    lemm = [lemmatizer.lemmatize(w, get_wordnet_pos(w)) for w in tokens]\n",
        "    hl_lemmatized_1.append(lemm)\n",
        "\n",
        " # Init Lemmatizer 2 \n",
        "hl_lemmatized_2 = []\n",
        "for tokens in hl_tokens_2:\n",
        "    lemm = [lemmatizer.lemmatize(w, get_wordnet_pos(w)) for w in tokens]\n",
        "    hl_lemmatized_2.append(lemm)"
      ],
      "execution_count": null,
      "outputs": []
    },
    {
      "cell_type": "markdown",
      "metadata": {
        "id": "OENe4vEZ2I6L",
        "colab_type": "text"
      },
      "source": [
        "Tách từ trong tập train và tập test để những từ trùng nhau chuyển về số\n"
      ]
    },
    {
      "cell_type": "code",
      "metadata": {
        "id": "npuVjMRc14ZL",
        "colab_type": "code",
        "colab": {}
      },
      "source": [
        "hl_lemmatized_2"
      ],
      "execution_count": null,
      "outputs": []
    },
    {
      "cell_type": "code",
      "metadata": {
        "id": "OIAF2bJn16a8",
        "colab_type": "code",
        "colab": {}
      },
      "source": [
        "from keras.preprocessing.text import Tokenizer\n",
        "from keras.preprocessing import sequence\n",
        "from keras.preprocessing.sequence import pad_sequences\n",
        "import numpy as np\n",
        "max_features = 2000\n",
        "max_token = len (hl_lemmatized_1)\n",
        "tokenizer = Tokenizer (num_words= max_features)\n",
        "tokenizer.fit_on_texts(hl_lemmatized_1)\n",
        "sequences = tokenizer.texts_to_sequences(hl_lemmatized_1)\n",
        "X_train = pad_sequences(sequences, maxlen = max_token)\n",
        "#padding giúp các chuỗi trong X_train có độ dài bằng nhau\n",
        "\n",
        "####\n",
        "\n",
        "max_features = 2000\n",
        "max_token = len (hl_lemmatized_1)\n",
        "tokenizer = Tokenizer (num_words= max_features)\n",
        "tokenizer.fit_on_texts(hl_lemmatized_2)\n",
        "sequences = tokenizer.texts_to_sequences(hl_lemmatized_2)\n",
        "X_test = pad_sequences(sequences, maxlen = max_token)\n",
        "#padding giúp các chuỗi trong X_test có độ dài bằng nhau"
      ],
      "execution_count": null,
      "outputs": []
    },
    {
      "cell_type": "code",
      "metadata": {
        "id": "wcAh-aBz6AY0",
        "colab_type": "code",
        "colab": {}
      },
      "source": [
        "X_test"
      ],
      "execution_count": null,
      "outputs": []
    },
    {
      "cell_type": "markdown",
      "metadata": {
        "id": "OyyA0JAm4VLN",
        "colab_type": "text"
      },
      "source": [
        "Vecto hóa 1 văn bản, giữ lại tối đa 2000 từ\n",
        "\n"
      ]
    },
    {
      "cell_type": "code",
      "metadata": {
        "id": "qtZUccnO6udD",
        "colab_type": "code",
        "colab": {}
      },
      "source": [
        "Y_train = df_1['is_sarcastic'].values\n",
        "Y_train = np.vstack(Y_train)\n",
        "#Nối 2 mảng bằng cách xếp chồng dọc, biến Y_train thành 1 ma trận\n",
        "#X_trai,X_tes,Y_trai,Y_tes = train_test_split(X_train,Y_train,test_size=0.3, random_state = 42)\n",
        "print (X_train)\n",
        "\n",
        "#######\n",
        "Y_test = df_2['Is_sarcastic'].values\n",
        "Y_test = np.vstack(Y_test)\n",
        "#biến Y_test thành 1 ma trận"
      ],
      "execution_count": null,
      "outputs": []
    },
    {
      "cell_type": "code",
      "metadata": {
        "id": "VEM_m87p9HIl",
        "colab_type": "code",
        "colab": {}
      },
      "source": [
        "len(X_test)"
      ],
      "execution_count": null,
      "outputs": []
    },
    {
      "cell_type": "code",
      "metadata": {
        "id": "cNDttWQx9e9F",
        "colab_type": "code",
        "colab": {}
      },
      "source": [
        "from sklearn.ensemble import RandomForestClassifier\n",
        "clf  =  RandomForestClassifier(n_estimators=300)\n",
        "clf.fit(X_train, Y_train)"
      ],
      "execution_count": null,
      "outputs": []
    },
    {
      "cell_type": "code",
      "metadata": {
        "id": "fOcZ4bDq9psn",
        "colab_type": "code",
        "colab": {}
      },
      "source": [
        "from sklearn.preprocessing import LabelEncoder,MinMaxScaler"
      ],
      "execution_count": null,
      "outputs": []
    },
    {
      "cell_type": "code",
      "metadata": {
        "id": "ZEpH9vu5I_TN",
        "colab_type": "code",
        "colab": {}
      },
      "source": [
        ""
      ],
      "execution_count": null,
      "outputs": []
    },
    {
      "cell_type": "code",
      "metadata": {
        "id": "8eaQPNtn9qRP",
        "colab_type": "code",
        "colab": {}
      },
      "source": [
        "le = LabelEncoder()\n",
        "y_result=le.fit_transform(Y_test)\n",
        "y_pred=clf.predict(X_test)"
      ],
      "execution_count": null,
      "outputs": []
    },
    {
      "cell_type": "code",
      "metadata": {
        "id": "5j0ZPb7V_2I8",
        "colab_type": "code",
        "colab": {}
      },
      "source": [
        "print(\"Result: \", (y_pred == y_result).tolist().count(True)/len(y_result))"
      ],
      "execution_count": null,
      "outputs": []
    },
    {
      "cell_type": "code",
      "metadata": {
        "id": "66cPOjzyAqPD",
        "colab_type": "code",
        "colab": {}
      },
      "source": [
        "from sklearn.metrics import classification_report\n",
        "print(classification_report(y_result,y_pred))"
      ],
      "execution_count": null,
      "outputs": []
    }
  ]
}