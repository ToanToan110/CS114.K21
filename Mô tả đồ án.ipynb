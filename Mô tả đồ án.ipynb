{
  "nbformat": 4,
  "nbformat_minor": 0,
  "metadata": {
    "colab": {
      "name": "Untitled14.ipynb",
      "provenance": [],
      "authorship_tag": "ABX9TyO3iA2t0bjjrRETI8/zkd4L",
      "include_colab_link": true
    },
    "kernelspec": {
      "name": "python3",
      "display_name": "Python 3"
    }
  },
  "cells": [
    {
      "cell_type": "markdown",
      "metadata": {
        "id": "view-in-github",
        "colab_type": "text"
      },
      "source": [
        "<a href=\"https://colab.research.google.com/github/ToanToan110/CS114.K21/blob/master/M%C3%B4%20t%E1%BA%A3%20%C4%91%E1%BB%93%20%C3%A1n.ipynb\" target=\"_parent\"><img src=\"https://colab.research.google.com/assets/colab-badge.svg\" alt=\"Open In Colab\"/></a>"
      ]
    },
    {
      "cell_type": "markdown",
      "metadata": {
        "id": "8zxTp7v5UR2u",
        "colab_type": "text"
      },
      "source": [
        "# **Mô tả đồ án cuối kì**"
      ]
    },
    {
      "cell_type": "markdown",
      "metadata": {
        "id": "tJM3VvnvUoOr",
        "colab_type": "text"
      },
      "source": [
        "***Nhận dạng ổ gà***"
      ]
    },
    {
      "cell_type": "markdown",
      "metadata": {
        "id": "wy3LtiUIUtah",
        "colab_type": "text"
      },
      "source": [
        "**1. Mô tả bài toán**\n",
        "\n",
        "Input: hình ảnh một con đường \n",
        "\n",
        "Output: Con đường có ổ gà hay không\n",
        "\n",
        "**2. Mô tả về bộ dữ liệu**\n",
        "\n",
        "\n",
        "+ Cách thức xây dựng bộ dữ liệu: hình ảnh con đường và ổ gà lấy từ nhiều nguồn trên internet(90%), hình tự chụp (10%).\n",
        "\n",
        "+ Số lượng, độ đa dạng: gần 400 hình con đường trơn không có ổ gà, gần 400 hình đường có ổ gà với hình ảnh ở nhiều nguồn, nhiều nơi và thời tiết khác nhau, góc chụp đa dạng \n",
        " \n",
        "+ Các thao tác tiền xử lí dữ liệu: loại bỏ ảnh mờ, các ảnh phải được chụp vào ban ngày, thu thập gán nhãn dữ liệu\n",
        "\n",
        "+ Phân chia (split) - train/dev/test:train: 80% số ảnh, test: 20% số ảnh\n",
        "\n",
        "\n",
        "**3. Mô tả về đặc trưng**\n",
        "\n",
        "+ Features engineering: độ rộng, độ sâu, bán kính ổ gà\n",
        "\n",
        "**4.Mô tả về thuật toán máy học**\n",
        "\n",
        "+ Sử dụng các thuật toán SVM,...(tìm hiểu thêm)\n",
        "\n",
        "\n",
        "**5. Cài đặt, tinh chỉnh tham số**\n",
        "\n",
        "Sử dụng thuật toán GridsearchCV của scikit-learn\n",
        "\n",
        "**6. Đánh giá kết quả, kết luận**\n",
        "\n",
        "\n",
        "\n",
        "\n",
        "\n",
        "\n",
        "\n",
        "\n",
        "\n",
        "\n",
        "\n"
      ]
    }
  ]
}