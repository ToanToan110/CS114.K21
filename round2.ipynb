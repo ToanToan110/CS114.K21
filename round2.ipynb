{
  "nbformat": 4,
  "nbformat_minor": 0,
  "metadata": {
    "colab": {
      "name": "round2.ipynb",
      "provenance": [],
      "authorship_tag": "ABX9TyOjQFwormTfu2jHMhCHNW2F",
      "include_colab_link": true
    },
    "kernelspec": {
      "name": "python3",
      "display_name": "Python 3"
    }
  },
  "cells": [
    {
      "cell_type": "markdown",
      "metadata": {
        "id": "view-in-github",
        "colab_type": "text"
      },
      "source": [
        "<a href=\"https://colab.research.google.com/github/ToanToan110/CS114.K21/blob/master/round2.ipynb\" target=\"_parent\"><img src=\"https://colab.research.google.com/assets/colab-badge.svg\" alt=\"Open In Colab\"/></a>"
      ]
    },
    {
      "cell_type": "code",
      "metadata": {
        "id": "OzAp-qajts8K",
        "colab_type": "code",
        "colab": {}
      },
      "source": [
        "import pandas as pd\n",
        "data = pd.read_csv('http://cs.uit.edu.vn/data2.txt',header=None)\n",
        "#1.lấy dữ liệu xuống bằng cách khai báo thư viện và trích dẫn link data"
      ],
      "execution_count": 0,
      "outputs": []
    },
    {
      "cell_type": "code",
      "metadata": {
        "id": "B3zQam5Tt-OM",
        "colab_type": "code",
        "colab": {}
      },
      "source": [
        "data.columns = ['dl','tg']"
      ],
      "execution_count": 0,
      "outputs": []
    },
    {
      "cell_type": "code",
      "metadata": {
        "id": "f_LY-8-huI0K",
        "colab_type": "code",
        "colab": {}
      },
      "source": [
        "import matplotlib.pyplot as plt"
      ],
      "execution_count": 0,
      "outputs": []
    },
    {
      "cell_type": "code",
      "metadata": {
        "id": "y0jQrkeluKIk",
        "colab_type": "code",
        "colab": {
          "base_uri": "https://localhost:8080/",
          "height": 295
        },
        "outputId": "d353e5fa-1b6c-4281-c3d1-2c969ca7aad0"
      },
      "source": [
        "plt.scatter(data['dl'],data['tg'])"
      ],
      "execution_count": 30,
      "outputs": [
        {
          "output_type": "execute_result",
          "data": {
            "text/plain": [
              "<matplotlib.collections.PathCollection at 0x7fb3e27333c8>"
            ]
          },
          "metadata": {
            "tags": []
          },
          "execution_count": 30
        },
        {
          "output_type": "display_data",
          "data": {
            "image/png": "[encoded data removed]",
            "text/plain": [
              "<Figure size 432x288 with 1 Axes>"
            ]
          },
          "metadata": {
            "tags": [],
            "needs_background": "light"
          }
        }
      ]
    },
    {
      "cell_type": "code",
      "metadata": {
        "id": "2DL2gUxhuOZ0",
        "colab_type": "code",
        "colab": {}
      },
      "source": [
        "from sklearn.model_selection import train_test_split\n",
        "x_train,x_test,y_train, y_test = train_test_split(data['dl'],data['tg'],test_size=0.2,random_state=42)\n",
        "#2.train data bằng cách random : 20% test, còn lại là trainning"
      ],
      "execution_count": 0,
      "outputs": []
    },
    {
      "cell_type": "code",
      "metadata": {
        "id": "LnLCJZbsuTxE",
        "colab_type": "code",
        "colab": {}
      },
      "source": [
        "x_train = x_train.to_frame()\n",
        "x_test = x_test.to_frame()"
      ],
      "execution_count": 0,
      "outputs": []
    },
    {
      "cell_type": "code",
      "metadata": {
        "id": "5gEfUyS-t0Gf",
        "colab_type": "code",
        "colab": {
          "base_uri": "https://localhost:8080/",
          "height": 34
        },
        "outputId": "64157037-c5f1-4149-8307-f793aab1f078"
      },
      "source": [
        "from sklearn.linear_model import LinearRegression\n",
        "model = LinearRegression()\n",
        "model.fit(x_train, y_train)\n",
        "# dùng thư viện mathplotlib để thấy hình dạng của sơ đồ từ đó chọn được model linear regress tion(do các điểm nằm xung quanh 1 đường thẳng)"
      ],
      "execution_count": 33,
      "outputs": [
        {
          "output_type": "execute_result",
          "data": {
            "text/plain": [
              "LinearRegression(copy_X=True, fit_intercept=True, n_jobs=None, normalize=False)"
            ]
          },
          "metadata": {
            "tags": []
          },
          "execution_count": 33
        }
      ]
    },
    {
      "cell_type": "code",
      "metadata": {
        "id": "GhGPOLGVuc3F",
        "colab_type": "code",
        "colab": {}
      },
      "source": [
        "predict = model.predict(x_test)"
      ],
      "execution_count": 0,
      "outputs": []
    },
    {
      "cell_type": "code",
      "metadata": {
        "id": "ykKBDapcuesG",
        "colab_type": "code",
        "colab": {
          "base_uri": "https://localhost:8080/",
          "height": 34
        },
        "outputId": "bcd4d7e2-936b-49ae-eb56-c3be58b2b6e6"
      },
      "source": [
        "model.score(x_test,y_test)\n",
        "#4.đánh giá độ tốt"
      ],
      "execution_count": 35,
      "outputs": [
        {
          "output_type": "execute_result",
          "data": {
            "text/plain": [
              "0.9974970538241013"
            ]
          },
          "metadata": {
            "tags": []
          },
          "execution_count": 35
        }
      ]
    },
    {
      "cell_type": "code",
      "metadata": {
        "id": "Ca_h9hUVuibN",
        "colab_type": "code",
        "colab": {}
      },
      "source": [
        "cost=((y_test-predict)**2).sum()*(1/len(y_test))\n",
        "#4. dùng hàm mất mát để biết dc nó có tốt hay ko, cost càng nhỏ là càng tốt\n"
      ],
      "execution_count": 0,
      "outputs": []
    },
    {
      "cell_type": "code",
      "metadata": {
        "id": "xD36ufQdulqk",
        "colab_type": "code",
        "colab": {}
      },
      "source": [
        "data = int(input())\n",
        "tg = model.predict([[data]])\n",
        "print(tg)\n",
        "#3. viết được ứng dụng để tiên đoán dữa vào input là 1 khối lương dữ liệu, output là thời gian chạy "
      ],
      "execution_count": 0,
      "outputs": []
    }
  ]
}